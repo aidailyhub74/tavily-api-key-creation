{
  "nbformat": 4,
  "nbformat_minor": 0,
  "metadata": {
    "colab": {
      "provenance": []
    },
    "kernelspec": {
      "name": "python3",
      "display_name": "Python 3"
    },
    "language_info": {
      "name": "python"
    }
  },
  "cells": [
    {
      "cell_type": "code",
      "source": [
        "!pip install tavily-python"
      ],
      "metadata": {
        "colab": {
          "base_uri": "https://localhost:8080/"
        },
        "id": "jLc3Mlnxu7js",
        "outputId": "e85d22a0-233b-42c2-9740-6d1535481f5e"
      },
      "execution_count": null,
      "outputs": [
        {
          "output_type": "stream",
          "name": "stdout",
          "text": [
            "Collecting tavily-python\n",
            "  Downloading tavily_python-0.7.11-py3-none-any.whl.metadata (7.5 kB)\n",
            "Requirement already satisfied: requests in /usr/local/lib/python3.12/dist-packages (from tavily-python) (2.32.4)\n",
            "Requirement already satisfied: tiktoken>=0.5.1 in /usr/local/lib/python3.12/dist-packages (from tavily-python) (0.11.0)\n",
            "Requirement already satisfied: httpx in /usr/local/lib/python3.12/dist-packages (from tavily-python) (0.28.1)\n",
            "Requirement already satisfied: regex>=2022.1.18 in /usr/local/lib/python3.12/dist-packages (from tiktoken>=0.5.1->tavily-python) (2024.11.6)\n",
            "Requirement already satisfied: charset_normalizer<4,>=2 in /usr/local/lib/python3.12/dist-packages (from requests->tavily-python) (3.4.3)\n",
            "Requirement already satisfied: idna<4,>=2.5 in /usr/local/lib/python3.12/dist-packages (from requests->tavily-python) (3.10)\n",
            "Requirement already satisfied: urllib3<3,>=1.21.1 in /usr/local/lib/python3.12/dist-packages (from requests->tavily-python) (2.5.0)\n",
            "Requirement already satisfied: certifi>=2017.4.17 in /usr/local/lib/python3.12/dist-packages (from requests->tavily-python) (2025.8.3)\n",
            "Requirement already satisfied: anyio in /usr/local/lib/python3.12/dist-packages (from httpx->tavily-python) (4.10.0)\n",
            "Requirement already satisfied: httpcore==1.* in /usr/local/lib/python3.12/dist-packages (from httpx->tavily-python) (1.0.9)\n",
            "Requirement already satisfied: h11>=0.16 in /usr/local/lib/python3.12/dist-packages (from httpcore==1.*->httpx->tavily-python) (0.16.0)\n",
            "Requirement already satisfied: sniffio>=1.1 in /usr/local/lib/python3.12/dist-packages (from anyio->httpx->tavily-python) (1.3.1)\n",
            "Requirement already satisfied: typing_extensions>=4.5 in /usr/local/lib/python3.12/dist-packages (from anyio->httpx->tavily-python) (4.15.0)\n",
            "Downloading tavily_python-0.7.11-py3-none-any.whl (15 kB)\n",
            "Installing collected packages: tavily-python\n",
            "Successfully installed tavily-python-0.7.11\n"
          ]
        }
      ]
    },
    {
      "cell_type": "code",
      "execution_count": null,
      "metadata": {
        "colab": {
          "base_uri": "https://localhost:8080/"
        },
        "id": "n4YGuTXKuk4C",
        "outputId": "dd2f5b30-5fd5-4ec5-9ccd-ddb9d54fabab"
      },
      "outputs": [
        {
          "name": "stdout",
          "output_type": "stream",
          "text": [
            "Tavily API key: ··········\n"
          ]
        }
      ],
      "source": [
        "import getpass\n",
        "import os\n",
        "\n",
        "if not os.environ.get(\"TAVILY_API_KEY\"):\n",
        "    os.environ[\"TAVILY_API_KEY\"] = getpass.getpass(\"Tavily API key: \")"
      ]
    },
    {
      "cell_type": "code",
      "source": [
        "from tavily import TavilyClient\n",
        "\n",
        "# Step 1. Instantiating your TavilyClient\n",
        "tavily_client = TavilyClient()\n",
        "\n",
        "# Step 2. Executing a simple search query\n",
        "response = tavily_client.search(\"Who is Leo Messi?\")\n",
        "\n",
        "# Step 3. That's it! You've done a Tavily Search!\n",
        "print(response)"
      ],
      "metadata": {
        "colab": {
          "base_uri": "https://localhost:8080/"
        },
        "id": "wcsoKb7Ru3it",
        "outputId": "704247b9-261f-4513-beb1-f50dfef9f2d7"
      },
      "execution_count": null,
      "outputs": [
        {
          "output_type": "stream",
          "name": "stdout",
          "text": [
            "{'query': 'Who is Leo Messi?', 'follow_up_questions': None, 'answer': None, 'images': [], 'results': [{'url': 'https://en.wikipedia.org/wiki/Lionel_Messi', 'title': 'Lionel Messi - Wikipedia', 'content': 'Lionel Andrés \"Leo\" Messi (Spanish pronunciation: [ljoˈnel anˈdɾes ˈmesi]; born 24 June 1987) is an Argentine professional footballer who plays as a forward for and captains both Major League Soccer club Inter Miami and the Argentina national team.', 'score': 0.94620544, 'raw_content': None}, {'url': 'https://en.wikipedia.org/wiki/Career_of_Lionel_Messi', 'title': 'Career of Lionel Messi - Wikipedia', 'content': 'Lionel Messi is an Argentine professional footballer who plays as a forward for and captains both Major League Soccer club Inter Miami and the Argentina', 'score': 0.83093774, 'raw_content': None}, {'url': 'https://www.britannica.com/biography/Lionel-Messi', 'title': \"Lionel Messi | Biography, Trophies, Records, Ballon d'Or ... - Britannica\", 'content': \"Jul 21, 2025·Lionel Messi (born June 24, 1987, Rosario, Argentina) is an Argentine-born football (soccer) player who received a record-setting eight Ballon d'Or awards.\", 'score': 0.8116913, 'raw_content': None}, {'url': 'https://www.imdb.com/name/nm2177779/bio/', 'title': 'Lionel Messi - Biography - IMDb', 'content': 'After his senior debut in August 2005, Messi became the youngest Argentine to play and score in a [2006 FIFA World Cup Germany (2006)](https://www.imdb.com/title/tt0496190/?ref_=nmbio_mbio), and reached the final of the 2007 Copa América, where he was named young player of the tournament. In the 1/8 finals match of [2018 FIFA World Cup Russia (2018)](https://www.imdb.com/title/tt8412178/?ref_=nmbio_mbio) against the future winner of the tournament, [France National Football Team](https://www.imdb.com/name/nm8205573/?ref_=nmbio_mbio), Messi gave two assists, but the Argentines lost with a score of 3:4 and ended their participation in the tournament. *   Won the 2005 FIFA U20 World Cup with [Argentina National Under-20 Football Team](https://www.imdb.com/name/nm13956998/?ref_=nmbio_trv). [Favorite sports legends created 4 years ago•34 people ![Image 11: Lionel Messi](https://m.media-amazon.com/images/M/MV5BMDM5MzllNzMtN2QxNi00YWJiLThkNzAtYzI3ZWE4MWZlNjNkXkEyXkFqcGc@._V1_QL75_UY107_CR3,0,72,107_.jpg)](https://www.imdb.com/list/ls082796372/?ref_=nmbio_urls_6) Lionel Messi ![Image 13: Cristiano Ronaldo](https://m.media-amazon.com/images/M/MV5BZjY3NzcwODYtMTQ0My00MzY1LWIzOGUtOWEzNjk2YWIwZDY1XkEyXkFqcGc@._V1_QL75_UY107_CR3,0,72,107_.jpg)](https://www.imdb.com/poll/mcoBBSEui6g/?ref_=nmbio_urpl_2) Messi ![Image 15: Diego Maradona](https://m.media-amazon.com/images/M/MV5BN2Q4NjJjMTItOWIxNy00MTRkLTg0NTctMWFjOWQyZGU4ZTI2XkEyXkFqcGc@._V1_QL75_UY107_CR7,0,72,107_.jpg)](https://www.imdb.com/poll/LPLrn982pgo/?ref_=nmbio_urpl_4)', 'score': 0.580091, 'raw_content': None}, {'url': 'https://www.espn.com/soccer/player/_/id/45843/lionel-messi', 'title': 'Lionel Messi - Inter Miami CF Forward - ESPN', 'content': '[* ![Image 4](https://a.espncdn.com/combiner/i?img=/i/teamlogos/countries/500/wal.png&w=32&h=32&scale=crop&cquality=40&location=origin)WAL 0 * ![Image 5](https://a.espncdn.com/combiner/i?img=/i/teamlogos/countries/500/can.png&w=32&h=32&scale=crop&cquality=40&location=origin)CAN 1 FT](https://www.espn.com/soccer/match/_/gameId/733167/canada-wales) [* ![Image 8](https://a.espncdn.com/combiner/i?img=/i/teamlogos/countries/500/mex.png&w=32&h=32&scale=crop&cquality=40&location=origin)MEX 2 * ![Image 9](https://a.espncdn.com/combiner/i?img=/i/teamlogos/countries/500/kors.png&w=32&h=32&scale=crop&cquality=40&location=origin)KOR 2 FT](https://www.espn.com/soccer/match/_/gameId/735774/south-korea-mexico) [* ![Image 10](https://a.espncdn.com/combiner/i?img=/i/teamlogos/countries/500/aze.png&w=32&h=32&scale=crop&cquality=40&location=origin)AZE 1 * ![Image 11](https://a.espncdn.com/combiner/i?img=/i/teamlogos/countries/500/ukr.png&w=32&h=32&scale=crop&cquality=40&location=origin)UKR 1 FT](https://www.espn.com/soccer/match/_/gameId/725012/ukraine-azerbaijan) [* ![Image 14](https://a.espncdn.com/combiner/i?img=/i/teamlogos/countries/500/sba.png&w=32&h=32&scale=crop&cquality=40&location=origin)SRB 0 * ![Image 15](https://a.espncdn.com/combiner/i?img=/i/teamlogos/countries/500/eng.png&w=32&h=32&scale=crop&cquality=40&location=origin)ENG 5 FT](https://www.espn.com/soccer/match/_/gameId/725017/england-serbia) [* ![Image 16](https://a.espncdn.com/combiner/i?img=/i/teamlogos/countries/500/hun.png&w=32&h=32&scale=crop&cquality=40&location=origin)HUN 2 * ![Image 17](https://a.espncdn.com/combiner/i?img=/i/teamlogos/countries/500/por.png&w=32&h=32&scale=crop&cquality=40&location=origin)POR 3 FT](https://www.espn.com/soccer/match/_/gameId/725016/portugal-hungary) [* ![Image 18](https://a.espncdn.com/combiner/i?img=/i/teamlogos/countries/500/fra.png&w=32&h=32&scale=crop&cquality=40&location=origin)FRA 2 * ![Image 19](https://a.espncdn.com/combiner/i?img=/i/teamlogos/countries/500/isl.png&w=32&h=32&scale=crop&cquality=40&location=origin)ISL 1 FT](https://www.espn.com/soccer/match/_/gameId/725018/iceland-france) [* ![Image 20](https://a.espncdn.com/combiner/i?img=/i/teamlogos/countries/500/nor.png&w=32&h=32&scale=crop&cquality=40&location=origin)NOR 11 * ![Image 21](https://a.espncdn.com/combiner/i?img=/i/teamlogos/countries/500/mda.png&w=32&h=32&scale=crop&cquality=40&location=origin)MDA 1 FT](https://www.espn.com/soccer/match/_/gameId/725008/moldova-norway) [* ![Image 30](https://a.espncdn.com/combiner/i?img=/i/teamlogos/countries/500/rsa.png&w=32&h=32&scale=crop&cquality=40&location=origin)RSA 1 * ![Image 31](https://a.espncdn.com/combiner/i?img=/i/teamlogos/countries/500/nga.png&w=32&h=32&scale=crop&cquality=40&location=origin)NGA 1 FT](https://www.espn.com/soccer/match/_/gameId/687180/nigeria-south-africa) [* ![Image 34](https://a.espncdn.com/combiner/i?img=/i/teamlogos/countries/500/ecu.png&w=32&h=32&scale=crop&cquality=40&location=origin)ECU 1 * ![Image 35](https://a.espncdn.com/combiner/i?img=/i/teamlogos/countries/500/arg.png&w=32&h=32&scale=crop&cquality=40&location=origin)ARG 0 FT](https://www.espn.com/soccer/match/_/gameId/684665/argentina-ecuador) [* ![Image 38](https://a.espncdn.com/combiner/i?img=/i/teamlogos/countries/500/chi.png&w=32&h=32&scale=crop&cquality=40&location=origin)CHI 0 * ![Image 39](https://a.espncdn.com/combiner/i?img=/i/teamlogos/countries/500/uru.png&w=32&h=32&scale=crop&cquality=40&location=origin)URU 0 FT](https://www.espn.com/soccer/match/_/gameId/684664/uruguay-chile) [* ![Image 40](https://a.espncdn.com/combiner/i?img=/i/teamlogos/countries/500/per.png&w=32&h=32&scale=crop&cquality=40&location=origin)PER 0 * ![Image 41](https://a.espncdn.com/combiner/i?img=/i/teamlogos/countries/500/par.png&w=32&h=32&scale=crop&cquality=40&location=origin)PAR 1 FT](https://www.espn.com/soccer/match/_/gameId/684666/paraguay-peru) [* ![Image 42](https://a.espncdn.com/combiner/i?img=/i/teamlogos/countries/500/ven.png&w=32&h=32&scale=crop&cquality=40&location=origin)VEN 3 * ![Image 43](https://a.espncdn.com/combiner/i?img=/i/teamlogos/countries/500/col.png&w=32&h=32&scale=crop&cquality=40&location=origin)COL 6 FT](https://www.espn.com/soccer/match/_/gameId/684667/colombia-venezuela) [![Image 50: Charlotte FC](https://a.espncdn.com/combiner/i?img=/i/teamlogos/soccer/500/21300.png&w=96&h=96&scale=crop&cquality=40&location=origin) CLT 9/13 11:30 PM ![Image 51: Inter Miami CF](https://a.espncdn.com/combiner/i?img=/i/teamlogos/soccer/500/20232.png&w=96&h=96&scale=crop&cquality=40&location=origin) MIA](https://www.espn.com/soccer/match/_/gameId/727234/inter-miami-cf-charlotte-fc \"Game Summary\")', 'score': 0.51662046, 'raw_content': None}], 'response_time': 0.92, 'request_id': 'a1c6318e-d169-4659-a33c-0ba1e44b1f4f'}\n"
          ]
        }
      ]
    },
    {
      "cell_type": "code",
      "source": [],
      "metadata": {
        "id": "Ce06NvOavJ1M"
      },
      "execution_count": null,
      "outputs": []
    }
  ]
}